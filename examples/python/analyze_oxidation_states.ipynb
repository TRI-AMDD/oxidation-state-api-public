{
 "cells": [
  {
   "cell_type": "markdown",
   "id": "87deef14-210e-4c06-b5c9-0c19a83fa298",
   "metadata": {
    "tags": []
   },
   "source": [
    "This notebook demonstrates how to use JPype with the Java library to run the Oxidation Analyzer.  Examples are provided for both a composition input and a structure file input."
   ]
  },
  {
   "cell_type": "code",
   "execution_count": 1,
   "id": "9136d583-e040-4b9e-8d43-68164b0d8444",
   "metadata": {},
   "outputs": [],
   "source": [
    "# Set up JPype\n",
    "import jpype\n",
    "import jpype.imports\n",
    "from jpype.types import *\n",
    "import os"
   ]
  },
  {
   "cell_type": "code",
   "execution_count": 2,
   "id": "31c38080-535e-4c5e-851c-ef567104ef96",
   "metadata": {},
   "outputs": [],
   "source": [
    "# Set the root directory\n",
    "root_dir = os.path.join(os.pardir, os.pardir)"
   ]
  },
  {
   "cell_type": "code",
   "execution_count": 3,
   "id": "3413445b-469d-4573-9374-b24041e33aef",
   "metadata": {},
   "outputs": [],
   "source": [
    "# Load the library for the oxidation analyzer\n",
    "lib_dir = os.path.join(root_dir, 'build', 'libs', '*')\n",
    "dependency_dir = os.path.join(root_dir, 'build', 'dependencies', '*')\n",
    "\n",
    "if not jpype.isJVMStarted():\n",
    "    jpype.startJVM(classpath=[lib_dir, dependency_dir])"
   ]
  },
  {
   "cell_type": "code",
   "execution_count": 5,
   "id": "d2694004-0648-472d-961c-36ac63073844",
   "metadata": {},
   "outputs": [],
   "source": [
    "# Create the main analyzer class used by the web app\n",
    "import _global.tri.oxidationstates.webapi.WebOxidationAnalyzer as OxidationAnalyzer\n",
    "\n",
    "param_file_name = os.path.join(root_dir, 'input_files', 'oxidation_boundaries.json')\n",
    "polyion_dir = os.path.join(root_dir, 'input_files', 'polyatomic_ions_web')\n",
    "\n",
    "analyzer = OxidationAnalyzer(param_file_name, polyion_dir)"
   ]
  },
  {
   "cell_type": "code",
   "execution_count": 6,
   "id": "38974346-1882-4c60-bd7c-c496a01928bd",
   "metadata": {},
   "outputs": [],
   "source": [
    "# Generating an example table from composition\n",
    "page_data = analyzer.getPageDataFromComposition(\"LiMn2O4\")"
   ]
  },
  {
   "cell_type": "code",
   "execution_count": 7,
   "id": "6af5f41e-72c3-49f9-984a-25dad2b84163",
   "metadata": {},
   "outputs": [],
   "source": [
    "# Or... generating an example table from a structure file\n",
    "with open(\"mp-556401_primitive.cif\") as struct_file:\n",
    "    struct_text = struct_file.read()\n",
    "    \n",
    "page_data = analyzer.getPageDataFromStructure(struct_text)"
   ]
  },
  {
   "cell_type": "code",
   "execution_count": 8,
   "id": "a1976af8-3f7c-4d9b-88d2-af2b1d889bbe",
   "metadata": {},
   "outputs": [
    {
     "name": "stdout",
     "output_type": "stream",
     "text": [
      "Table data for Fe2O4Ti4(PO4)4\n",
      "Oxidation States\tOptimal Likelihood\tOptimal electronic chemical potential\tGII\tMixed Valence\n",
      "2Fe2+ 4O2- 4Ti4+ 4(PO4)3- \t0.7841950291647801\t0.5070907381873874\t0.3369473982847188\tfalse\n",
      "2Fe3+ 4O2- 2Ti3+ 2Ti4+ 4(PO4)3- \t0.011859397903016045\t0.5847219362705207\t0.47339528307061673\ttrue\n",
      "\n"
     ]
    }
   ],
   "source": [
    "# A summary table\n",
    "print(page_data)\n",
    "\n",
    "# Or all the data in JSON format\n",
    "#print(pageData.toJSON())"
   ]
  },
  {
   "cell_type": "code",
   "execution_count": null,
   "id": "e57818cc-ff9d-416f-b2be-af33cbc44b9d",
   "metadata": {},
   "outputs": [],
   "source": []
  }
 ],
 "metadata": {
  "kernelspec": {
   "display_name": "Python 3 (ipykernel)",
   "language": "python",
   "name": "python3"
  },
  "language_info": {
   "codemirror_mode": {
    "name": "ipython",
    "version": 3
   },
   "file_extension": ".py",
   "mimetype": "text/x-python",
   "name": "python",
   "nbconvert_exporter": "python",
   "pygments_lexer": "ipython3",
   "version": "3.8.10"
  }
 },
 "nbformat": 4,
 "nbformat_minor": 5
}
